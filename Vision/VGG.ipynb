{
 "cells": [
  {
   "cell_type": "code",
   "execution_count": 1,
   "id": "impossible-helicopter",
   "metadata": {},
   "outputs": [
    {
     "name": "stdout",
     "output_type": "stream",
     "text": [
      "Pytorch version : 1.7.1\n",
      "Device : cuda:0\n"
     ]
    }
   ],
   "source": [
    "import os\n",
    "import torch\n",
    "import torch.nn as nn\n",
    "import torch.optim as optim\n",
    "import torch.nn.functional as F\n",
    "from torch.utils.data import DataLoader\n",
    "from torchvision import datasets, transforms\n",
    "print('Pytorch version :', torch.__version__)\n",
    "device = torch.device('cuda:0' if torch.cuda.is_available() else 'cpu')\n",
    "print('Device :',device)"
   ]
  },
  {
   "cell_type": "code",
   "execution_count": 2,
   "id": "monetary-daniel",
   "metadata": {},
   "outputs": [],
   "source": [
    "input_size = 224\n",
    "transform = transforms.Compose([\n",
    "    transforms.ToTensor(),\n",
    "    transforms.Resize((224,224)),\n",
    "    transforms.Normalize(mean=[0.485, 0.456, 0.406],\n",
    "                          std=[0.229, 0.224, 0.225])\n",
    "])"
   ]
  },
  {
   "cell_type": "code",
   "execution_count": 3,
   "id": "suspended-democrat",
   "metadata": {
    "scrolled": true
   },
   "outputs": [
    {
     "name": "stdout",
     "output_type": "stream",
     "text": [
      "Files already downloaded and verified\n",
      "Files already downloaded and verified\n"
     ]
    }
   ],
   "source": [
    "train_data = datasets.CIFAR100(root='data',train=True,transform=transform,download=True)\n",
    "test_data = datasets.CIFAR100(root='data',train=False,transform=transform,download=True)"
   ]
  },
  {
   "cell_type": "code",
   "execution_count": 5,
   "id": "moderate-gates",
   "metadata": {},
   "outputs": [
    {
     "data": {
      "text/plain": [
       "torch.Size([3, 224, 224])"
      ]
     },
     "execution_count": 5,
     "metadata": {},
     "output_type": "execute_result"
    }
   ],
   "source": [
    "train_data.__getitem__(0)[0].size()"
   ]
  },
  {
   "cell_type": "code",
   "execution_count": 6,
   "id": "continued-threshold",
   "metadata": {},
   "outputs": [],
   "source": [
    "BATCH_SIZE = 64\n",
    "train_iter = DataLoader(train_data,batch_size=BATCH_SIZE,shuffle=True,num_workers=1)\n",
    "test_iter = DataLoader(test_data,batch_size=BATCH_SIZE,shuffle=True,num_workers=1)"
   ]
  },
  {
   "cell_type": "code",
   "execution_count": 7,
   "id": "single-logic",
   "metadata": {},
   "outputs": [],
   "source": [
    "import torch\n",
    "import torch.nn as nn\n",
    "\n",
    "class VGG(nn.Module):\n",
    "    def __init__(self, num_classes=100):\n",
    "        super(VGG, self).__init__()\n",
    "\n",
    "        self.relu = nn.ReLU(inplace=True)\n",
    "\n",
    "        # Convolution Feature Extraction Part\n",
    "        self.conv1 = nn.Conv2d(3, 64, kernel_size=3, padding=1)\n",
    "        self.bn1   = nn.BatchNorm2d(64)\n",
    "        self.pool1 = nn.MaxPool2d(kernel_size=2, stride=2)\n",
    "\n",
    "        self.conv2 = nn.Conv2d(64, 128, kernel_size=3, padding=1)\n",
    "        self.bn2   = nn.BatchNorm2d(128)\n",
    "        self.pool2 = nn.MaxPool2d(kernel_size=2, stride=2)\n",
    "\n",
    "        self.conv3_1 = nn.Conv2d(128, 256, kernel_size=3, padding=1)\n",
    "        self.bn3_1   = nn.BatchNorm2d(256)\n",
    "        self.conv3_2 = nn.Conv2d(256, 256, kernel_size=3, padding=1)\n",
    "        self.bn3_2   = nn.BatchNorm2d(256)\n",
    "        self.pool3   = nn.MaxPool2d(kernel_size=2, stride=2)\n",
    "\n",
    "        self.conv4_1 = nn.Conv2d(256, 512, kernel_size=3, padding=1)\n",
    "        self.bn4_1   = nn.BatchNorm2d(512)\n",
    "        self.conv4_2 = nn.Conv2d(512, 512, kernel_size=3, padding=1)\n",
    "        self.bn4_2   = nn.BatchNorm2d(512)\n",
    "        self.pool4   = nn.MaxPool2d(kernel_size=2, stride=2)\n",
    "\n",
    "        self.conv5_1 = nn.Conv2d(512, 512, kernel_size=3, padding=1)\n",
    "        self.bn5_1   = nn.BatchNorm2d(512)\n",
    "        self.conv5_2 = nn.Conv2d(512, 512, kernel_size=3, padding=1)\n",
    "        self.bn5_2   = nn.BatchNorm2d(512)\n",
    "        self.pool5   = nn.MaxPool2d(kernel_size=2, stride=2)\n",
    "        '''======================== TO DO (1) ========================'''\n",
    "        '''==========================================================='''\n",
    "\n",
    "\n",
    "        # Fully Connected Classifier Part\n",
    "        self.gap      = nn.AdaptiveAvgPool2d(1)\n",
    "        self.fc1      = nn.Linear(512 * 1 * 1, 4096)\n",
    "        self.dropout1 = nn.Dropout()\n",
    "\n",
    "        '''==========================================================='''\n",
    "        '''======================== TO DO (2) ========================'''\n",
    "        self.fc2      = nn.Linear(4096,4096)\n",
    "        self.dropout2 = nn.Dropout()\n",
    "\n",
    "        self.fc3      = nn.Linear(4096,100)\n",
    "        '''======================== TO DO (2) ========================'''\n",
    "        '''==========================================================='''\n",
    "\n",
    "    def forward(self, x):\n",
    "        # Convolution Feature Extraction Part\n",
    "        x = self.conv1(x)\n",
    "        x = self.bn1(x)\n",
    "        x = self.relu(x)\n",
    "        x = self.pool1(x)\n",
    "\n",
    "        x = self.conv2(x)\n",
    "        x = self.bn2(x)\n",
    "        x = self.relu(x)\n",
    "        x = self.pool2(x)\n",
    "\n",
    "        x = self.conv3_1(x)\n",
    "        x = self.bn3_1(x)\n",
    "        x = self.relu(x)\n",
    "        x = self.conv3_2(x)\n",
    "        x = self.bn3_2(x)\n",
    "        x = self.relu(x)\n",
    "        x = self.pool3(x)\n",
    "\n",
    "        x = self.conv4_1(x)\n",
    "        x = self.bn4_1(x)\n",
    "        x = self.relu(x)\n",
    "        x = self.conv4_2(x)\n",
    "        x = self.bn4_2(x)\n",
    "        x = self.relu(x)\n",
    "        x = self.pool4(x)\n",
    "\n",
    "        x = self.conv5_1(x)\n",
    "        x = self.bn5_1(x)\n",
    "        x = self.relu(x)\n",
    "        x = self.conv5_2(x)\n",
    "        x = self.bn5_2(x)\n",
    "        x = self.relu(x)\n",
    "\n",
    "        # Fully Connected Classifier Part\n",
    "        x = self.gap(x)\n",
    "        x = torch.flatten(x,1)\n",
    "        x = self.fc1(x)\n",
    "        x = self.relu(x)\n",
    "        x = self.dropout1(x)\n",
    "\n",
    "        x = self.fc2(x)\n",
    "        x = self.relu(x)\n",
    "        x = self.dropout2(x)\n",
    "\n",
    "        x = self.fc3(x)\n",
    "        return x"
   ]
  },
  {
   "cell_type": "code",
   "execution_count": 8,
   "id": "thrown-formula",
   "metadata": {},
   "outputs": [
    {
     "name": "stdout",
     "output_type": "stream",
     "text": [
      "Output tensor shape is : torch.Size([1, 100])\n"
     ]
    }
   ],
   "source": [
    "# Network\n",
    "model = VGG(num_classes=100)\n",
    "\n",
    "# Random input\n",
    "x = torch.randn((1, 3, 32, 32))\n",
    "\n",
    "# Forward\n",
    "out = model(x)\n",
    "\n",
    "# Check the output shape\n",
    "print(\"Output tensor shape is :\", out.shape)"
   ]
  },
  {
   "cell_type": "code",
   "execution_count": 9,
   "id": "grateful-stylus",
   "metadata": {},
   "outputs": [],
   "source": [
    "model = VGG().to(device)\n",
    "criterion = nn.CrossEntropyLoss()\n",
    "optimizer = optim.Adam(model.parameters(),lr=1e-4)"
   ]
  },
  {
   "cell_type": "code",
   "execution_count": 10,
   "id": "silent-canyon",
   "metadata": {},
   "outputs": [],
   "source": [
    "def eval_func(model,data_iter,device):\n",
    "    model.eval()\n",
    "    with torch.no_grad():\n",
    "        count, total_count = 0,0\n",
    "        for batch_in, batch_label in data_iter:\n",
    "            x = batch_in.to(device)\n",
    "            y = batch_label.to(device)\n",
    "            y_pred = model.forward(x)\n",
    "            y_ = torch.argmax(y_pred, dim=-1)\n",
    "            count += (y==y_).sum().item()\n",
    "            total_count += batch_in.size(0)\n",
    "    model.train()\n",
    "    return count/total_count"
   ]
  },
  {
   "cell_type": "code",
   "execution_count": 11,
   "id": "behavioral-republic",
   "metadata": {},
   "outputs": [
    {
     "data": {
      "text/plain": [
       "0.01"
      ]
     },
     "execution_count": 11,
     "metadata": {},
     "output_type": "execute_result"
    }
   ],
   "source": [
    "eval_func(model,train_iter,device)"
   ]
  },
  {
   "cell_type": "code",
   "execution_count": 12,
   "id": "anonymous-landscape",
   "metadata": {
    "scrolled": true
   },
   "outputs": [
    {
     "name": "stdout",
     "output_type": "stream",
     "text": [
      "EPOCH : 0, train_acc : 0.1633, test_acc : 0.1598\n",
      "EPOCH : 1, train_acc : 0.22548, test_acc : 0.2185\n",
      "EPOCH : 2, train_acc : 0.33694, test_acc : 0.327\n",
      "EPOCH : 3, train_acc : 0.39842, test_acc : 0.3747\n",
      "EPOCH : 4, train_acc : 0.4193, test_acc : 0.3944\n",
      "EPOCH : 5, train_acc : 0.48346, test_acc : 0.4526\n",
      "EPOCH : 6, train_acc : 0.48376, test_acc : 0.4373\n",
      "EPOCH : 7, train_acc : 0.54828, test_acc : 0.4912\n",
      "EPOCH : 8, train_acc : 0.5629, test_acc : 0.4901\n",
      "EPOCH : 9, train_acc : 0.6083, test_acc : 0.5297\n",
      "EPOCH : 10, train_acc : 0.63976, test_acc : 0.54\n",
      "EPOCH : 11, train_acc : 0.60254, test_acc : 0.5113\n",
      "EPOCH : 12, train_acc : 0.65588, test_acc : 0.5406\n",
      "EPOCH : 13, train_acc : 0.67602, test_acc : 0.5492\n",
      "EPOCH : 14, train_acc : 0.66472, test_acc : 0.5311\n",
      "EPOCH : 15, train_acc : 0.70662, test_acc : 0.5453\n",
      "EPOCH : 16, train_acc : 0.69784, test_acc : 0.5306\n",
      "EPOCH : 17, train_acc : 0.7285, test_acc : 0.543\n",
      "EPOCH : 18, train_acc : 0.72628, test_acc : 0.5381\n",
      "EPOCH : 19, train_acc : 0.73044, test_acc : 0.531\n"
     ]
    }
   ],
   "source": [
    "os.makedirs('./log', exist_ok=True)\n",
    "EPOCH = 20\n",
    "model.train()\n",
    "for epoch in range(EPOCH):\n",
    "    for batch_in, batch_label in train_iter:\n",
    "        x = batch_in.to(device)\n",
    "        y = batch_label.to(device)\n",
    "        y_pred = model.forward(x)\n",
    "        optimizer.zero_grad()\n",
    "        loss = criterion(y_pred, y)\n",
    "        loss.backward()\n",
    "        optimizer.step()\n",
    "    train_acc = eval_func(model,train_iter,device)\n",
    "    test_acc = eval_func(model,test_iter,device)\n",
    "    print(f'EPOCH : {epoch}, train_acc : {train_acc}, test_acc : {test_acc}')"
   ]
  },
  {
   "cell_type": "code",
   "execution_count": null,
   "id": "respected-supervision",
   "metadata": {},
   "outputs": [],
   "source": [
    "num_choice = 25\n",
    "choice = np.random.choice(60000,num_choice,replace=False)\n",
    "x = train_data.data[choice]\n",
    "t = train_data.target[choice]"
   ]
  },
  {
   "cell_type": "code",
   "execution_count": 45,
   "id": "public-bunny",
   "metadata": {},
   "outputs": [],
   "source": [
    "\n"
   ]
  }
 ],
 "metadata": {
  "kernelspec": {
   "display_name": "Python 3 (ipykernel)",
   "language": "python",
   "name": "python3"
  },
  "language_info": {
   "codemirror_mode": {
    "name": "ipython",
    "version": 3
   },
   "file_extension": ".py",
   "mimetype": "text/x-python",
   "name": "python",
   "nbconvert_exporter": "python",
   "pygments_lexer": "ipython3",
   "version": "3.7.12"
  }
 },
 "nbformat": 4,
 "nbformat_minor": 5
}
