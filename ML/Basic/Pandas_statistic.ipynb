{
 "cells": [
  {
   "cell_type": "markdown",
   "id": "written-citizen",
   "metadata": {},
   "source": [
    "# Pandas"
   ]
  },
  {
   "cell_type": "code",
   "execution_count": 2,
   "id": "operational-occasions",
   "metadata": {},
   "outputs": [],
   "source": [
    "import pandas as pd\n",
    "import numpy as np"
   ]
  },
  {
   "cell_type": "markdown",
   "id": "damaged-institute",
   "metadata": {},
   "source": [
    "- 데이터 로딩\n",
    "\n",
    "이전에 web에서 데이터를 정리한 것을 csv로 만들 줄 알아야해  \n",
    "df_data = pd.read_csv(`url`,sep= , header = None) # sep=`정규식 표현`"
   ]
  },
  {
   "cell_type": "markdown",
   "id": "adequate-discharge",
   "metadata": {},
   "source": [
    "- 데이터 프레임 확인\n",
    "\n",
    "df_data.head()"
   ]
  },
  {
   "cell_type": "markdown",
   "id": "adaptive-baptist",
   "metadata": {},
   "source": [
    "## Series 객체"
   ]
  },
  {
   "cell_type": "markdown",
   "id": "accepting-warehouse",
   "metadata": {},
   "source": [
    "Series 객체가 가진 값 : index, values, name, index.name \n",
    "\n",
    "            # index 객체, ndarray 객체, "
   ]
  },
  {
   "cell_type": "markdown",
   "id": "noble-knitting",
   "metadata": {},
   "source": [
    "index를 기준으로 연산"
   ]
  },
  {
   "cell_type": "markdown",
   "id": "european-cherry",
   "metadata": {},
   "source": [
    ".astype : 타입 변경"
   ]
  },
  {
   "cell_type": "markdown",
   "id": "alive-invasion",
   "metadata": {},
   "source": [
    "pd.Series()  # data= , index= , dtype= , name= , "
   ]
  },
  {
   "cell_type": "markdown",
   "id": "sustainable-letters",
   "metadata": {},
   "source": [
    "## DataFrame 객체"
   ]
  },
  {
   "cell_type": "markdown",
   "id": "greenhouse-conditions",
   "metadata": {},
   "source": [
    "- Basic"
   ]
  },
  {
   "cell_type": "code",
   "execution_count": null,
   "id": "married-learning",
   "metadata": {},
   "outputs": [],
   "source": [
    "df = pd.DataFrame() # data= , index= , columns= , dtype= , (key:list)"
   ]
  },
  {
   "cell_type": "code",
   "execution_count": 4,
   "id": "allied-clothing",
   "metadata": {},
   "outputs": [],
   "source": [
    "df = pd.read_csv('./csv/phone_data.csv')"
   ]
  },
  {
   "cell_type": "markdown",
   "id": "reserved-combat",
   "metadata": {},
   "source": [
    "- DataFrame이 가진 정보  \n",
    "\n",
    "df.`column_name`, df[`column_name`] : series가져오기  \n",
    "df.index : index 객체 반환  \n",
    "df.to_csv() : csv로 바꾸어줌\n",
    "df_data.columns # 리스트로 반환  - feature 확인  \n",
    "df_data.values # 넘파이 데이터로 반환 - - value 확인"
   ]
  },
  {
   "cell_type": "markdown",
   "id": "tough-grant",
   "metadata": {},
   "source": [
    "- - -"
   ]
  },
  {
   "cell_type": "markdown",
   "id": "continental-palmer",
   "metadata": {},
   "source": [
    "- 원하는 dataframe 자르기\n",
    "\n",
    "df[`list`]<br>\n",
    "df[`list`][`index_list`]\n",
    "\n",
    "df.loc[`index_list(name)`,`column_list(name)`]\n",
    "df.iloc[`column_list(index)`,`index_list(index)`]\n",
    "\n",
    " - index로 dataframe 잘라오기\n",
    "\n",
    "  - df.loc[:`index_name`] : index 이름을 포함한데까지\n",
    "  - df.iloc[:3] : 원래 index가져오는 룰과 같음"
   ]
  },
  {
   "cell_type": "markdown",
   "id": "driven-reward",
   "metadata": {},
   "source": [
    "- 새로운 컬럼 생성\n",
    "df.`new_column` = series넣기"
   ]
  },
  {
   "cell_type": "markdown",
   "id": "judicial-employment",
   "metadata": {},
   "source": [
    "- bool series로 기준에 맞는 데이터 뽑기"
   ]
  },
  {
   "cell_type": "markdown",
   "id": "weird-spectacular",
   "metadata": {},
   "source": [
    "df.something = df.age < 40 # series 넣기"
   ]
  },
  {
   "cell_type": "markdown",
   "id": "chubby-attendance",
   "metadata": {},
   "source": [
    "- 데이터 삭제 ( 컬럼 )"
   ]
  },
  {
   "cell_type": "markdown",
   "id": "assigned-canada",
   "metadata": {},
   "source": [
    "df.drop(`name`, axis=0) # df에서 axis방향으로 name을 찾아서 없애준다.  \n",
    "del()"
   ]
  },
  {
   "cell_type": "markdown",
   "id": "pending-review",
   "metadata": {},
   "source": [
    "- index 초기화해주기"
   ]
  },
  {
   "cell_type": "markdown",
   "id": "virtual-remark",
   "metadata": {},
   "source": [
    "df.reset_index() # drop=True 를 많이쓴다."
   ]
  },
  {
   "cell_type": "markdown",
   "id": "wrong-receipt",
   "metadata": {},
   "source": [
    "- 변화 적용은 inplace=True"
   ]
  },
  {
   "cell_type": "markdown",
   "id": "increased-winter",
   "metadata": {},
   "source": [
    "- 연산"
   ]
  },
  {
   "cell_type": "markdown",
   "id": "comparable-holder",
   "metadata": {},
   "source": [
    "연산기호보다는 .add() # NaN 값때문에 add, mul에 fill_value를 써준다."
   ]
  },
  {
   "cell_type": "markdown",
   "id": "consecutive-unemployment",
   "metadata": {},
   "source": [
    "- 원하는대로 데이터 변환"
   ]
  },
  {
   "cell_type": "markdown",
   "id": "controlled-threshold",
   "metadata": {},
   "source": [
    "먼저 feature vector에 무슨 데이터있는지 확인 unique()"
   ]
  },
  {
   "cell_type": "markdown",
   "id": "breeding-cornell",
   "metadata": {},
   "source": [
    "![unique1.png](./img/unique1.png)"
   ]
  },
  {
   "cell_type": "markdown",
   "id": "sublime-capital",
   "metadata": {},
   "source": [
    "![](./img/unique2.png)"
   ]
  },
  {
   "cell_type": "markdown",
   "id": "favorite-runner",
   "metadata": {},
   "source": [
    "series - map() 1. 일반적인 map함수, 2. dict넣어주면 매칭  \n",
    "series - replace() # dict나 target list, conversion list  \n",
    "dataframe - apply(func) # 컬럼 별로 결과값 반환  \n",
    "dataframe - applymap(func) # 모든 데이터에 적용"
   ]
  },
  {
   "cell_type": "markdown",
   "id": "cordless-compensation",
   "metadata": {},
   "source": [
    "- 통계치 여러가지 쓸 때  \n",
    "dataframe - apply(func)\n",
    "``` python\n",
    "def func(x):\n",
    "    return Series(\n",
    "    [x.min(), x.max(), x.mean(), sum(x.isnull())],\n",
    "    index=['min', 'max', 'mean', 'null'],\n",
    "    )\n",
    "```"
   ]
  },
  {
   "cell_type": "markdown",
   "id": "corporate-confidence",
   "metadata": {},
   "source": [
    "- 전체 통계치 요약\n",
    "df.describe()"
   ]
  },
  {
   "cell_type": "markdown",
   "id": "similar-capacity",
   "metadata": {},
   "source": [
    "- 상관계수, 공분산"
   ]
  },
  {
   "cell_type": "markdown",
   "id": "unable-cement",
   "metadata": {},
   "source": [
    "series.corr(series)\n",
    "series.cov(series)\n",
    "df.corrwith(series)\n",
    "df.corr() # 모든 관계 dataframe"
   ]
  },
  {
   "cell_type": "markdown",
   "id": "fatty-happening",
   "metadata": {},
   "source": [
    "- 여러가지 함수"
   ]
  },
  {
   "cell_type": "markdown",
   "id": "demanding-direction",
   "metadata": {},
   "source": [
    "sort_values(`column_list`,ascending=True)\n",
    "isnull() # sum과 같이씀"
   ]
  },
  {
   "cell_type": "markdown",
   "id": "dominant-killing",
   "metadata": {},
   "source": [
    "### Groupby"
   ]
  },
  {
   "cell_type": "markdown",
   "id": "collaborative-curve",
   "metadata": {},
   "source": [
    "- groupby : 결과적으로 index가 여러개인 series 객체이다.\n",
    "- 각 feature마다 값을 어떻게 가지는지 확인하고 싶을 때 사용"
   ]
  },
  {
   "cell_type": "markdown",
   "id": "welcome-marsh",
   "metadata": {},
   "source": [
    "multi_series.groupby(`feature list`)[`numeric data`].통계함수()"
   ]
  },
  {
   "cell_type": "markdown",
   "id": "criminal-pregnancy",
   "metadata": {},
   "source": [
    "- groupby 풀어주기"
   ]
  },
  {
   "cell_type": "markdown",
   "id": "virtual-longer",
   "metadata": {},
   "source": [
    "multi_series.unstack() : groupby되어있어 분할되어있는 녀석 채워준다. <-> stack()"
   ]
  },
  {
   "cell_type": "markdown",
   "id": "challenging-fight",
   "metadata": {},
   "source": [
    "- reset_index"
   ]
  },
  {
   "cell_type": "markdown",
   "id": "opposed-timber",
   "metadata": {},
   "source": [
    "multi_series.reset_index : indexrange를 만들어준다."
   ]
  },
  {
   "cell_type": "markdown",
   "id": "tested-review",
   "metadata": {},
   "source": [
    "- swaplevel()"
   ]
  },
  {
   "cell_type": "markdown",
   "id": "vocational-water",
   "metadata": {},
   "source": [
    "multi_series.swaplevel() : 기준 coloum을 바꿔준다."
   ]
  },
  {
   "cell_type": "markdown",
   "id": "dressed-studio",
   "metadata": {},
   "source": [
    "- sortlevel(`index`)"
   ]
  },
  {
   "cell_type": "markdown",
   "id": "isolated-afternoon",
   "metadata": {},
   "source": [
    "multi_series.sortlevel(0) : 0번째 컬럼을 기준으로 정렬하여 표현"
   ]
  },
  {
   "cell_type": "markdown",
   "id": "experimental-indian",
   "metadata": {},
   "source": [
    "- sort_index"
   ]
  },
  {
   "cell_type": "markdown",
   "id": "solid-bruce",
   "metadata": {},
   "source": [
    "multi_series.sort_index(level=0) # level(index 번수)기준으로 sort // sort_values() # value 기준으로 sort"
   ]
  },
  {
   "cell_type": "markdown",
   "id": "equal-stamp",
   "metadata": {},
   "source": [
    "- 연산"
   ]
  },
  {
   "cell_type": "markdown",
   "id": "monetary-answer",
   "metadata": {},
   "source": [
    "multi_series.통계함수(level=0) # 인덱스가 여러개인 series기 때문에 level을 입력해야한다. count()"
   ]
  },
  {
   "cell_type": "markdown",
   "id": "recovered-observer",
   "metadata": {},
   "source": [
    "- - - "
   ]
  },
  {
   "cell_type": "markdown",
   "id": "sensitive-boating",
   "metadata": {},
   "source": [
    "> group만 잘라서 사용하는 법\n",
    "- groupby는 name, group 리스트로 표현할 수 있다. iter로 표현가능"
   ]
  },
  {
   "cell_type": "markdown",
   "id": "southern-figure",
   "metadata": {},
   "source": [
    "- group.get_group(name)  \n",
    "name에 해당하는 group 가져오기"
   ]
  },
  {
   "cell_type": "markdown",
   "id": "veterinary-bailey",
   "metadata": {},
   "source": [
    "- aggregation  \n",
    "grouped.agg(sum) // grouped.agg(np.mean) // grouped.agg(`연산 리스트`) # 셀수있는 정보만 요약\n",
    "- transformation  \n",
    "grouped.transform(lambda x: x) # 그룹된 영역에서 연산 -> 모든값에 적용, ex: normalization 처럼 데이터 변환에 쓰인다.\n",
    "- filtration  \n",
    "grouped.filter(lambda x: len(x) >= 3) # 조건에 맞는 row만 출력되도록 만든다."
   ]
  },
  {
   "cell_type": "markdown",
   "id": "thirty-minister",
   "metadata": {},
   "source": [
    "grouped.describe() : agg 연산 종류 다 넣은 것"
   ]
  },
  {
   "cell_type": "markdown",
   "id": "handed-confidentiality",
   "metadata": {},
   "source": [
    "```\n",
    "df['team'].value_counts()\n",
    "```"
   ]
  },
  {
   "cell_type": "markdown",
   "id": "recent-robinson",
   "metadata": {},
   "source": [
    "매우중요~!\n",
    "```\n",
    "df_phone.groupby(['month', 'item']).agg(\n",
    "    {\n",
    "        'duration': 'sum',\n",
    "        'network_type': 'count',\n",
    "        'data': 'first',\n",
    "    }\n",
    ")\n",
    "```"
   ]
  },
  {
   "cell_type": "markdown",
   "id": "successful-variety",
   "metadata": {},
   "source": [
    "![a.png](./img/pandas_final.png)"
   ]
  },
  {
   "cell_type": "markdown",
   "id": "covered-orlando",
   "metadata": {},
   "source": [
    "- pivot table"
   ]
  },
  {
   "cell_type": "markdown",
   "id": "frozen-booking",
   "metadata": {},
   "source": [
    "![b.png](./img/pivot_table.png)"
   ]
  },
  {
   "cell_type": "markdown",
   "id": "strategic-galaxy",
   "metadata": {},
   "source": [
    "- crosstab"
   ]
  },
  {
   "cell_type": "markdown",
   "id": "upset-drove",
   "metadata": {},
   "source": [
    "![c.png](./img/pandas_crosstab.png)"
   ]
  },
  {
   "cell_type": "markdown",
   "id": "funky-jaguar",
   "metadata": {},
   "source": [
    "- merge"
   ]
  },
  {
   "cell_type": "markdown",
   "id": "practical-experience",
   "metadata": {},
   "source": [
    "pd.merge(df_a, df_b, on='subject_id')  \n",
    ": 합칠 두 dataframe, 기준(left_on, right_on, on), how='right','left','full','inner','outer'"
   ]
  }
 ],
 "metadata": {
  "kernelspec": {
   "display_name": "Python 3",
   "language": "python",
   "name": "python3"
  },
  "language_info": {
   "codemirror_mode": {
    "name": "ipython",
    "version": 3
   },
   "file_extension": ".py",
   "mimetype": "text/x-python",
   "name": "python",
   "nbconvert_exporter": "python",
   "pygments_lexer": "ipython3",
   "version": "3.8.5"
  }
 },
 "nbformat": 4,
 "nbformat_minor": 5
}
