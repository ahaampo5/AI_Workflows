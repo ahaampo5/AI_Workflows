{
 "cells": [
  {
   "cell_type": "markdown",
   "id": "communist-concentration",
   "metadata": {},
   "source": [
    "# Python Program Structure"
   ]
  },
  {
   "cell_type": "markdown",
   "id": "intense-telephone",
   "metadata": {},
   "source": [
    "## 1. Package structure"
   ]
  },
  {
   "cell_type": "markdown",
   "id": "advised-montreal",
   "metadata": {},
   "source": [
    "- `Project`\n",
    "  - `directory1`\n",
    "    - `__init__.py`\n",
    "  - `log directory`\n",
    "  - `__init__.py`\n",
    "  - `__main__.py`\n",
    "  - `config.cfg`"
   ]
  },
  {
   "cell_type": "markdown",
   "id": "occupied-corpus",
   "metadata": {},
   "source": [
    "## 2. Program Structure"
   ]
  },
  {
   "cell_type": "markdown",
   "id": "popular-database",
   "metadata": {},
   "source": []
  }
 ],
 "metadata": {
  "kernelspec": {
   "display_name": "Python 3",
   "language": "python",
   "name": "python3"
  },
  "language_info": {
   "codemirror_mode": {
    "name": "ipython",
    "version": 3
   },
   "file_extension": ".py",
   "mimetype": "text/x-python",
   "name": "python",
   "nbconvert_exporter": "python",
   "pygments_lexer": "ipython3",
   "version": "3.8.5"
  }
 },
 "nbformat": 4,
 "nbformat_minor": 5
}
