{
 "cells": [
  {
   "cell_type": "markdown",
   "id": "incident-combat",
   "metadata": {},
   "source": [
    "# Numpy"
   ]
  },
  {
   "cell_type": "code",
   "execution_count": 1,
   "id": "thousand-malawi",
   "metadata": {},
   "outputs": [],
   "source": [
    "import numpy as np\n",
    "import torch"
   ]
  },
  {
   "cell_type": "code",
   "execution_count": 2,
   "id": "located-eleven",
   "metadata": {
    "scrolled": true
   },
   "outputs": [],
   "source": [
    "ndarray = np.random.uniform(0,1,(3,4))\n",
    "nd2 = np.ndarray(shape=(3,4),dtype=float) # attribute : nbyte, \n",
    "nd3 = np.arange(24).reshape(2,3,4)"
   ]
  },
  {
   "cell_type": "code",
   "execution_count": 3,
   "id": "burning-worship",
   "metadata": {},
   "outputs": [
    {
     "data": {
      "text/plain": [
       "tensor([[ 0,  1,  2,  3,  4,  5,  6,  7,  8,  9, 10, 11],\n",
       "        [12, 13, 14, 15, 16, 17, 18, 19, 20, 21, 22, 23]])"
      ]
     },
     "execution_count": 3,
     "metadata": {},
     "output_type": "execute_result"
    }
   ],
   "source": [
    "torch.arange(24).view(2,-1)"
   ]
  },
  {
   "cell_type": "markdown",
   "id": "affecting-hollywood",
   "metadata": {},
   "source": [
    "- algbra 기본연산 :   \n",
    "dot product, broadcast,  \n",
    "ndarray가 가진 정보 : dtype, shape, values, size(data개수), nbytes  \n",
    "reshape - 데이터를 가진 matrix를 모양변환, 특별한 의미 없이 모양바꾸는 함수 (-1,4)"
   ]
  },
  {
   "cell_type": "markdown",
   "id": "floppy-reminder",
   "metadata": {},
   "source": [
    "- 초기화 : np.arange(10), np.zeros(shape= , dtype) # np.ones, np.empty  "
   ]
  },
  {
   "cell_type": "code",
   "execution_count": 24,
   "id": "expected-perspective",
   "metadata": {},
   "outputs": [
    {
     "data": {
      "text/plain": [
       "array([[0., 0., 1.],\n",
       "       [0., 0., 0.],\n",
       "       [0., 0., 0.],\n",
       "       [0., 0., 0.],\n",
       "       [0., 0., 0.]])"
      ]
     },
     "execution_count": 24,
     "metadata": {},
     "output_type": "execute_result"
    }
   ],
   "source": [
    "np.ones_like(ndarray) # zeros, empty  \n",
    "np.identity(3).transpose()  # .T\n",
    "np.eye(5,3,2) # row, column, start-point / 어디에 쓰일까??"
   ]
  },
  {
   "cell_type": "code",
   "execution_count": 8,
   "id": "innovative-continuity",
   "metadata": {
    "collapsed": true
   },
   "outputs": [
    {
     "data": {
      "text/plain": [
       "array([0.62743801, 0.07491698, 0.49257112])"
      ]
     },
     "execution_count": 8,
     "metadata": {},
     "output_type": "execute_result"
    }
   ],
   "source": [
    "np.diag(ndarray) # 대각선만 추출"
   ]
  },
  {
   "cell_type": "markdown",
   "id": "complicated-inspection",
   "metadata": {},
   "source": [
    "- 분포  "
   ]
  },
  {
   "cell_type": "code",
   "execution_count": null,
   "id": "nonprofit-interim",
   "metadata": {},
   "outputs": [],
   "source": [
    "np.random.uniform(0,1,(3,4)) # Population parameter, shape / normal, exponential, "
   ]
  },
  {
   "cell_type": "markdown",
   "id": "rough-walnut",
   "metadata": {},
   "source": [
    "- 통계학 연산 : sum, mean, std, median, var  + 추가항 : axis <br>\n",
    "연산, 함수 쓸거있으면 다있으니 검색해라 : \n",
    "exp - softmax,  "
   ]
  },
  {
   "cell_type": "markdown",
   "id": "global-bowling",
   "metadata": {},
   "source": [
    "- 붙이기 : + 추가 axis  "
   ]
  },
  {
   "cell_type": "code",
   "execution_count": 12,
   "id": "banned-contribution",
   "metadata": {
    "collapsed": true
   },
   "outputs": [
    {
     "data": {
      "text/plain": [
       "array([[0.62743801, 0.30325037, 0.63317008, 0.48787668],\n",
       "       [0.76770605, 0.07491698, 0.93301027, 0.19632992],\n",
       "       [0.89882369, 0.98097705, 0.49257112, 0.14373277],\n",
       "       [0.62743801, 0.30325037, 0.63317008, 0.48787668],\n",
       "       [0.76770605, 0.07491698, 0.93301027, 0.19632992],\n",
       "       [0.89882369, 0.98097705, 0.49257112, 0.14373277]])"
      ]
     },
     "execution_count": 12,
     "metadata": {},
     "output_type": "execute_result"
    }
   ],
   "source": [
    "np.vstack((ndarray,ndarray))  \n",
    "np.hstack((ndarray,ndarray))  \n",
    "np.concatenate((ndarray,ndarray),axis=0)"
   ]
  },
  {
   "cell_type": "markdown",
   "id": "english-burlington",
   "metadata": {},
   "source": [
    "- 축 추가 :"
   ]
  },
  {
   "cell_type": "code",
   "execution_count": 14,
   "id": "hispanic-income",
   "metadata": {
    "collapsed": true
   },
   "outputs": [
    {
     "data": {
      "text/plain": [
       "array([[[0.62743801, 0.30325037, 0.63317008, 0.48787668],\n",
       "        [0.76770605, 0.07491698, 0.93301027, 0.19632992],\n",
       "        [0.89882369, 0.98097705, 0.49257112, 0.14373277]]])"
      ]
     },
     "execution_count": 14,
     "metadata": {},
     "output_type": "execute_result"
    }
   ],
   "source": [
    "ndarray[np.newaxis,:]"
   ]
  },
  {
   "cell_type": "markdown",
   "id": "contemporary-greeting",
   "metadata": {},
   "source": [
    "- 비교 연산 : broadcasting과 비슷한 개념  \n",
    "np.any, np.all, np.logical_and, # or, not"
   ]
  },
  {
   "cell_type": "markdown",
   "id": "separate-literacy",
   "metadata": {},
   "source": [
    "- np.where 두가지방법  \n",
    "np.where(a > 0,3,2) # 1번째 방법 참이면 3, 거짓이면 2 출력 - 기준을 잡아 원하는 수로 출력가능  \n",
    "np.where(`조건`) # index값 반환"
   ]
  },
  {
   "cell_type": "markdown",
   "id": "equipped-young",
   "metadata": {},
   "source": [
    "- np.argmin() # argmax, argsort - index 반환 / min, max, sort"
   ]
  },
  {
   "cell_type": "markdown",
   "id": "nuclear-stopping",
   "metadata": {},
   "source": [
    "- boolean index : bool array를 참조하여 True의 index값만 뽑는다.\n",
    "- fancy index : index array를 참조하여 값을 뽑는다. # 여러 index array사용가능 = .take\n"
   ]
  },
  {
   "cell_type": "markdown",
   "id": "fresh-allah",
   "metadata": {},
   "source": [
    "- 저장 : np.savetxt(`name`,`array`,delimiter=',') # np.loadtxt() - scv로  \n",
    "np.save(`name`,`array`) # pickle로  \n",
    "불러오기 : np.load(`name`) # scv로부터"
   ]
  },
  {
   "cell_type": "markdown",
   "id": "approved-density",
   "metadata": {},
   "source": [
    "# 선형대 함수"
   ]
  },
  {
   "cell_type": "code",
   "execution_count": 17,
   "id": "threaded-prophet",
   "metadata": {
    "scrolled": true
   },
   "outputs": [
    {
     "data": {
      "text/plain": [
       "5.656854249492381"
      ]
     },
     "execution_count": 17,
     "metadata": {},
     "output_type": "execute_result"
    }
   ],
   "source": [
    "np.linalg.pinv\n",
    "np.linalg.inv\n",
    "np.linalg.norm([4,4]) # l2-norm"
   ]
  },
  {
   "cell_type": "markdown",
   "id": "academic-copying",
   "metadata": {},
   "source": [
    "# Pytorch"
   ]
  },
  {
   "cell_type": "code",
   "execution_count": 29,
   "id": "nuclear-texas",
   "metadata": {},
   "outputs": [],
   "source": [
    "import torch\n",
    "import torch.nn as nn\n",
    "import torch.optim as optim\n",
    "import numpy as np"
   ]
  },
  {
   "cell_type": "code",
   "execution_count": 30,
   "id": "technical-doubt",
   "metadata": {
    "scrolled": true
   },
   "outputs": [
    {
     "data": {
      "text/plain": [
       "tensor([[0.4925, 0.7259, 0.3973],\n",
       "        [0.6613, 0.6350, 0.2677]])"
      ]
     },
     "execution_count": 30,
     "metadata": {},
     "output_type": "execute_result"
    }
   ],
   "source": [
    "np_array = np.random.uniform(0,1,(2,4,5))\n",
    "x_torch = torch.from_numpy(np_array)\n",
    "\n",
    "torch.rand((2,3)) # ones, zeros,"
   ]
  },
  {
   "cell_type": "code",
   "execution_count": 12,
   "id": "specified-mobile",
   "metadata": {},
   "outputs": [],
   "source": [
    "a = torch.tensor([2., 3.], requires_grad=True)\n",
    "b = torch.tensor([6., 4.], requires_grad=True)\n",
    "Q = 3*a**3 - b**2"
   ]
  },
  {
   "cell_type": "code",
   "execution_count": 13,
   "id": "following-mason",
   "metadata": {},
   "outputs": [],
   "source": [
    "Q.backward(gradient=torch.tensor([2.,2.]))"
   ]
  },
  {
   "cell_type": "code",
   "execution_count": 14,
   "id": "associate-exhibition",
   "metadata": {
    "scrolled": true
   },
   "outputs": [
    {
     "data": {
      "text/plain": [
       "tensor([ 72., 162.])"
      ]
     },
     "execution_count": 14,
     "metadata": {},
     "output_type": "execute_result"
    }
   ],
   "source": [
    "a.grad"
   ]
  },
  {
   "cell_type": "code",
   "execution_count": 32,
   "id": "valid-yellow",
   "metadata": {
    "scrolled": false
   },
   "outputs": [
    {
     "data": {
      "text/plain": [
       "tensor([[[1., 1., 1., 1., 1.],\n",
       "         [1., 1., 1., 1., 1.],\n",
       "         [1., 1., 1., 1., 1.],\n",
       "         [1., 1., 1., 1., 1.]],\n",
       "\n",
       "        [[1., 1., 1., 1., 1.],\n",
       "         [1., 1., 1., 1., 1.],\n",
       "         [1., 1., 1., 1., 1.],\n",
       "         [1., 1., 1., 1., 1.]]], dtype=torch.float64)"
      ]
     },
     "execution_count": 32,
     "metadata": {},
     "output_type": "execute_result"
    }
   ],
   "source": [
    "torch.ones_like(x_torch) # rand_list, "
   ]
  },
  {
   "cell_type": "markdown",
   "id": "based-inventory",
   "metadata": {},
   "source": [
    "- torch가 가지고 있는 정보 shape, dtype, device, size(shape가진 객체), "
   ]
  },
  {
   "cell_type": "code",
   "execution_count": null,
   "id": "finnish-utility",
   "metadata": {},
   "outputs": [],
   "source": [
    "- torch 연산\n",
    "\n",
    "torch.cat([x_data,x_data]) # dim \n",
    "\n",
    "torch.stack([x_data,x_data]) # dim\n",
    "\n",
    "x_data.mul(x_data) # x_data * x_data\n",
    "x_data.matmul(x_data) #  x_data @ x_data\n",
    "\n",
    "x_data.unsqueeze(dim=0) # squeeze\n",
    "\n",
    "- 여러가지 함수\n",
    "\n",
    "import torch.nn.functional as F\n",
    "tensor = torch.FloatTensor([0.5, 0.7, 0.1])\n",
    "a_tensor = F.softmax(tensor, dim=0)\n",
    "a_tensor"
   ]
  },
  {
   "cell_type": "code",
   "execution_count": null,
   "id": "purple-polish",
   "metadata": {},
   "outputs": [],
   "source": [
    "argmax(), one_hot()\n",
    "\n",
    "- 모델 구조"
   ]
  },
  {
   "cell_type": "code",
   "execution_count": 36,
   "id": "exotic-chorus",
   "metadata": {},
   "outputs": [
    {
     "data": {
      "text/plain": [
       "<bound method SGD.step of SGD (\n",
       "Parameter Group 0\n",
       "    dampening: 0\n",
       "    lr: 0.01\n",
       "    momentum: 0.9\n",
       "    nesterov: False\n",
       "    weight_decay: 0\n",
       ")>"
      ]
     },
     "execution_count": 36,
     "metadata": {},
     "output_type": "execute_result"
    }
   ],
   "source": [
    "import torchvision\n",
    "\n",
    "model = torchvision.models.resnet18(pretrained=True)\n",
    "data = torch.rand(1, 3, 64, 64)\n",
    "labels = torch.rand(1, 1000)\n",
    "\n",
    "prediction = model(data) # forward pass\n",
    "loss = (prediction - labels).sum()\n",
    "loss.backward()\n",
    "optim = torch.optim.SGD(model.parameters(),lr=1e-2, momentum=0.9)\n",
    "optim.step"
   ]
  },
  {
   "cell_type": "code",
   "execution_count": null,
   "id": "useful-departure",
   "metadata": {},
   "outputs": [],
   "source": [
    "- 미분 구조"
   ]
  },
  {
   "cell_type": "code",
   "execution_count": 37,
   "id": "retained-damages",
   "metadata": {},
   "outputs": [
    {
     "name": "stdout",
     "output_type": "stream",
     "text": [
      "tensor([36., 81.])\n",
      "tensor([12.,  8.])\n"
     ]
    }
   ],
   "source": [
    "a = torch.tensor([2., 3.], requires_grad=True)\n",
    "b = torch.tensor([6., 4.], requires_grad=True)\n",
    "\n",
    "Q = 3*a**3 + b**2 # 목적함수\n",
    "\n",
    "external_grad = torch.tensor([1., 1.]) \n",
    "Q.backward(gradient=external_grad) # 반복해서 실행시키면 오류\n",
    "print(a.grad) # 미분값을 a 객체에 저장하네\n",
    "print(b.grad)\n",
    "\n",
    "x = torch.rand(5,5) # frozen parameters 미분값 계산 안해\n",
    "y = torch.rand(5,5)\n",
    "z = torch.rand((5,5), requires_grad=True)\n",
    "\n",
    "model = torchvision.models.resnet18(pretrained=True)\n",
    "\n",
    "for param in model.parameters(): # 모델의 파라메터마다 requires_grad 존재\n",
    "    param.shape\n",
    "    param.requires_grad"
   ]
  }
 ],
 "metadata": {
  "kernelspec": {
   "display_name": "Python 3",
   "language": "python",
   "name": "python3"
  },
  "language_info": {
   "codemirror_mode": {
    "name": "ipython",
    "version": 3
   },
   "file_extension": ".py",
   "mimetype": "text/x-python",
   "name": "python",
   "nbconvert_exporter": "python",
   "pygments_lexer": "ipython3",
   "version": "3.8.5"
  }
 },
 "nbformat": 4,
 "nbformat_minor": 5
}
